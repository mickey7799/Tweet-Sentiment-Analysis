{
 "cells": [
  {
   "cell_type": "code",
   "execution_count": 1,
   "metadata": {},
   "outputs": [],
   "source": [
    "import nltk\n",
    "import glob\n",
    "import numpy as np\n",
    "import pandas as pd\n",
    "from nltk.corpus import stopwords\n",
    "from  nltk.stem import SnowballStemmer\n",
    "import re\n",
    "from sklearn.feature_extraction.text import CountVectorizer\n",
    "from sklearn.feature_extraction.text import TfidfVectorizer\n",
    "from sklearn.decomposition import PCA\n",
    "from sklearn.preprocessing import StandardScaler\n",
    "from sklearn import svm\n",
    "from sklearn import naive_bayes\n",
    "\n",
    "from sklearn.model_selection import cross_val_score\n",
    "import csv\n",
    "\n",
    "TEXT_CLEANING_RE = \"https?:\\S+|http?:\\S|[^A-Za-z0-9]+\"\n",
    "stop_words = stopwords.words(\"english\")\n",
    "stemmer = SnowballStemmer(\"english\")\n",
    "\n",
    "def preprocess(text, stem=False):\n",
    "    # Remove link,user and special characters\n",
    "    text = re.sub(TEXT_CLEANING_RE, ' ', str(text).lower()).strip()\n",
    "    tokens = []\n",
    "    for token in text.split():\n",
    "        if token not in stop_words and not token.isdigit() and len(token) > 2:\n",
    "            if stem:\n",
    "                tokens.append(stemmer.stem(token))\n",
    "            else:\n",
    "                tokens.append(token)\n",
    "    return \" \".join(tokens)"
   ]
  },
  {
   "cell_type": "markdown",
   "metadata": {},
   "source": [
    "## Use training & eval"
   ]
  },
  {
   "cell_type": "code",
   "execution_count": 2,
   "metadata": {},
   "outputs": [
    {
     "name": "stdout",
     "output_type": "stream",
     "text": [
      "Empty DataFrame\n",
      "Columns: [text, tag]\n",
      "Index: []\n",
      "Empty DataFrame\n",
      "Columns: [text, tag]\n",
      "Index: []\n"
     ]
    }
   ],
   "source": [
    "# training data\n",
    "df_train = pd.read_csv(\"train_combine.csv\" , encoding=\"utf8\" ,error_bad_lines=False)\n",
    "data_train = pd.DataFrame(df_train, columns=['text', 'tag'])\n",
    "\n",
    "nan_rows = data_train[data_train['text'].isnull()]\n",
    "print(nan_rows)\n",
    "nan_rows = data_train[data_train['tag'].isnull()]\n",
    "print(nan_rows)"
   ]
  },
  {
   "cell_type": "code",
   "execution_count": 3,
   "metadata": {},
   "outputs": [
    {
     "data": {
      "text/html": [
       "<div>\n",
       "<style scoped>\n",
       "    .dataframe tbody tr th:only-of-type {\n",
       "        vertical-align: middle;\n",
       "    }\n",
       "\n",
       "    .dataframe tbody tr th {\n",
       "        vertical-align: top;\n",
       "    }\n",
       "\n",
       "    .dataframe thead th {\n",
       "        text-align: right;\n",
       "    }\n",
       "</style>\n",
       "<table border=\"1\" class=\"dataframe\">\n",
       "  <thead>\n",
       "    <tr style=\"text-align: right;\">\n",
       "      <th></th>\n",
       "      <th>text</th>\n",
       "      <th>tag</th>\n",
       "    </tr>\n",
       "  </thead>\n",
       "  <tbody>\n",
       "    <tr>\n",
       "      <th>22903</th>\n",
       "      <td>sunday national ice cream day take capeflyer g...</td>\n",
       "      <td>1</td>\n",
       "    </tr>\n",
       "    <tr>\n",
       "      <th>22904</th>\n",
       "      <td>mattbowenthw dunkin sensible option may always...</td>\n",
       "      <td>1</td>\n",
       "    </tr>\n",
       "    <tr>\n",
       "      <th>22905</th>\n",
       "      <td>dloesch kurtschlichter gov john kasich says su...</td>\n",
       "      <td>-1</td>\n",
       "    </tr>\n",
       "    <tr>\n",
       "      <th>22906</th>\n",
       "      <td>money right way claim social security lump sum...</td>\n",
       "      <td>1</td>\n",
       "    </tr>\n",
       "    <tr>\n",
       "      <th>22907</th>\n",
       "      <td>fracking found cause quakes otago daily times ...</td>\n",
       "      <td>0</td>\n",
       "    </tr>\n",
       "  </tbody>\n",
       "</table>\n",
       "</div>"
      ],
      "text/plain": [
       "                                                    text  tag\n",
       "22903  sunday national ice cream day take capeflyer g...    1\n",
       "22904  mattbowenthw dunkin sensible option may always...    1\n",
       "22905  dloesch kurtschlichter gov john kasich says su...   -1\n",
       "22906  money right way claim social security lump sum...    1\n",
       "22907  fracking found cause quakes otago daily times ...    0"
      ]
     },
     "execution_count": 3,
     "metadata": {},
     "output_type": "execute_result"
    }
   ],
   "source": [
    "data_train.text = data_train.text.apply(lambda x: preprocess(x))\n",
    "data_train.head(5)\n",
    "data_train.tail(5)"
   ]
  },
  {
   "cell_type": "code",
   "execution_count": 4,
   "metadata": {},
   "outputs": [],
   "source": [
    "corpus = data_train['text']\n",
    "# can try all or partial attributes\n",
    "vectorizer_train = TfidfVectorizer()\n",
    "vector_dataset_train = vectorizer_train.fit_transform(corpus)"
   ]
  },
  {
   "cell_type": "code",
   "execution_count": 5,
   "metadata": {},
   "outputs": [
    {
     "name": "stdout",
     "output_type": "stream",
     "text": [
      "34641\n"
     ]
    }
   ],
   "source": [
    "vector_df_train = pd.DataFrame(vector_dataset_train.todense(), columns=vectorizer_train.get_feature_names())\n",
    "\n",
    "print(len(vectorizer_train.get_feature_names()))\n",
    "#vector_df_train.head(5)"
   ]
  },
  {
   "cell_type": "code",
   "execution_count": 6,
   "metadata": {},
   "outputs": [
    {
     "name": "stdout",
     "output_type": "stream",
     "text": [
      "22908\n",
      "22908\n"
     ]
    }
   ],
   "source": [
    "X_train = vector_df_train.values  \n",
    "y_train = data_train['tag'].values  \n",
    "\n",
    "print(len(X_train))\n",
    "print(len(y_train))"
   ]
  },
  {
   "cell_type": "code",
   "execution_count": 7,
   "metadata": {},
   "outputs": [
    {
     "name": "stderr",
     "output_type": "stream",
     "text": [
      "[Parallel(n_jobs=-1)]: Using backend ThreadingBackend with 8 concurrent workers.\n"
     ]
    },
    {
     "name": "stdout",
     "output_type": "stream",
     "text": [
      "building tree 1 of 50\n",
      "building tree 2 of 50\n",
      "building tree 3 of 50building tree 4 of 50\n",
      "building tree 5 of 50\n",
      "\n",
      "building tree 6 of 50building tree 7 of 50\n",
      "building tree 8 of 50\n",
      "\n",
      "building tree 9 of 50\n",
      "building tree 10 of 50\n",
      "building tree 11 of 50\n",
      "building tree 12 of 50\n",
      "building tree 13 of 50\n",
      "building tree 14 of 50\n",
      "building tree 15 of 50\n",
      "building tree 16 of 50\n",
      "building tree 17 of 50\n",
      "building tree 18 of 50\n",
      "building tree 19 of 50\n",
      "building tree 20 of 50\n",
      "building tree 21 of 50\n",
      "building tree 22 of 50\n",
      "building tree 23 of 50\n"
     ]
    },
    {
     "name": "stderr",
     "output_type": "stream",
     "text": [
      "[Parallel(n_jobs=-1)]: Done  16 tasks      | elapsed:  1.2min\n"
     ]
    },
    {
     "name": "stdout",
     "output_type": "stream",
     "text": [
      "building tree 24 of 50\n",
      "building tree 25 of 50\n",
      "building tree 26 of 50\n",
      "building tree 27 of 50\n",
      "building tree 28 of 50\n",
      "building tree 29 of 50\n",
      "building tree 30 of 50\n",
      "building tree 31 of 50\n",
      "building tree 32 of 50\n",
      "building tree 33 of 50\n",
      "building tree 34 of 50\n",
      "building tree 35 of 50\n",
      "building tree 36 of 50\n",
      "building tree 37 of 50\n",
      "building tree 38 of 50\n",
      "building tree 39 of 50\n",
      "building tree 40 of 50\n",
      "building tree 41 of 50\n",
      "building tree 42 of 50\n",
      "building tree 43 of 50\n",
      "building tree 44 of 50\n",
      "building tree 45 of 50\n",
      "building tree 46 of 50\n",
      "building tree 47 of 50\n",
      "building tree 48 of 50\n",
      "building tree 49 of 50\n",
      "building tree 50 of 50\n"
     ]
    },
    {
     "name": "stderr",
     "output_type": "stream",
     "text": [
      "[Parallel(n_jobs=-1)]: Done  50 out of  50 | elapsed:  3.7min finished\n"
     ]
    },
    {
     "data": {
      "text/plain": [
       "RandomForestClassifier(bootstrap=True, class_weight='balanced',\n",
       "            criterion='gini', max_depth=None, max_features='auto',\n",
       "            max_leaf_nodes=None, min_impurity_decrease=0.0,\n",
       "            min_impurity_split=None, min_samples_leaf=1,\n",
       "            min_samples_split=2, min_weight_fraction_leaf=0.0,\n",
       "            n_estimators=50, n_jobs=-1, oob_score=False, random_state=7,\n",
       "            verbose=3, warm_start=False)"
      ]
     },
     "execution_count": 7,
     "metadata": {},
     "output_type": "execute_result"
    }
   ],
   "source": [
    "from sklearn.ensemble import RandomForestClassifier\n",
    "\n",
    "clf = RandomForestClassifier(n_estimators=50, class_weight='balanced',\n",
    "                            random_state=7, verbose=3, n_jobs=-1)\n",
    "clf.fit(X_train, y_train)"
   ]
  },
  {
   "cell_type": "code",
   "execution_count": 8,
   "metadata": {},
   "outputs": [
    {
     "name": "stdout",
     "output_type": "stream",
     "text": [
      "34641\n"
     ]
    }
   ],
   "source": [
    "train_feature = vectorizer_train.get_feature_names()\n",
    "print(len(train_feature))"
   ]
  },
  {
   "cell_type": "code",
   "execution_count": 9,
   "metadata": {},
   "outputs": [
    {
     "name": "stdout",
     "output_type": "stream",
     "text": [
      "Empty DataFrame\n",
      "Columns: [text, tag]\n",
      "Index: []\n",
      "Empty DataFrame\n",
      "Columns: [text, tag]\n",
      "Index: []\n"
     ]
    }
   ],
   "source": [
    "# eval data\n",
    "df_eval = pd.read_csv(\"eval_combine.csv\" , encoding=\"utf8\" ,error_bad_lines=False)\n",
    "data_eval = pd.DataFrame(df_eval, columns=['text', 'tag'])\n",
    "\n",
    "nan_rows = data_eval[data_eval['text'].isnull()]\n",
    "print(nan_rows)\n",
    "nan_rows = data_eval[data_eval['tag'].isnull()]\n",
    "print(nan_rows)"
   ]
  },
  {
   "cell_type": "code",
   "execution_count": 10,
   "metadata": {},
   "outputs": [
    {
     "name": "stdout",
     "output_type": "stream",
     "text": [
      "                                                text  tag\n",
      "0  today tomorrow night work done midnight shame ...    0\n",
      "1  time passing discussion christians always high...    0\n",
      "2               wishhhhh going jason aldean tomorrow    1\n",
      "3  kenklippenstein obviously right putin pen afd ...    0\n",
      "4  thankful bitchy antics pointing animals shop s...    1\n",
      "CPU times: user 218 ms, sys: 2.29 ms, total: 220 ms\n",
      "Wall time: 219 ms\n"
     ]
    }
   ],
   "source": [
    "%%time\n",
    "data_eval.text = data_eval.text.apply(lambda x: preprocess(x))\n",
    "print(data_eval.head(5))"
   ]
  },
  {
   "cell_type": "code",
   "execution_count": 11,
   "metadata": {},
   "outputs": [],
   "source": [
    "corpus_eval = data_eval['text']\n",
    "vectorizer_eval = TfidfVectorizer(vocabulary= train_feature)\n",
    "vector_dataset_eval = vectorizer_eval.fit_transform(corpus_eval)\n"
   ]
  },
  {
   "cell_type": "code",
   "execution_count": 12,
   "metadata": {},
   "outputs": [
    {
     "name": "stdout",
     "output_type": "stream",
     "text": [
      "34641\n"
     ]
    },
    {
     "data": {
      "text/html": [
       "<div>\n",
       "<style scoped>\n",
       "    .dataframe tbody tr th:only-of-type {\n",
       "        vertical-align: middle;\n",
       "    }\n",
       "\n",
       "    .dataframe tbody tr th {\n",
       "        vertical-align: top;\n",
       "    }\n",
       "\n",
       "    .dataframe thead th {\n",
       "        text-align: right;\n",
       "    }\n",
       "</style>\n",
       "<table border=\"1\" class=\"dataframe\">\n",
       "  <thead>\n",
       "    <tr style=\"text-align: right;\">\n",
       "      <th></th>\n",
       "      <th>00am</th>\n",
       "      <th>00ariana</th>\n",
       "      <th>00k</th>\n",
       "      <th>00pm</th>\n",
       "      <th>01am</th>\n",
       "      <th>01m</th>\n",
       "      <th>04th</th>\n",
       "      <th>05pm</th>\n",
       "      <th>0966kas</th>\n",
       "      <th>0bama</th>\n",
       "      <th>...</th>\n",
       "      <th>zquadom</th>\n",
       "      <th>zquadwantszayntosmile</th>\n",
       "      <th>zsuzsannakun</th>\n",
       "      <th>zubin</th>\n",
       "      <th>zucco</th>\n",
       "      <th>zuhour</th>\n",
       "      <th>zulfiqar</th>\n",
       "      <th>zum</th>\n",
       "      <th>zumba</th>\n",
       "      <th>zwei</th>\n",
       "    </tr>\n",
       "  </thead>\n",
       "  <tbody>\n",
       "    <tr>\n",
       "      <th>0</th>\n",
       "      <td>0.0</td>\n",
       "      <td>0.0</td>\n",
       "      <td>0.0</td>\n",
       "      <td>0.0</td>\n",
       "      <td>0.0</td>\n",
       "      <td>0.0</td>\n",
       "      <td>0.0</td>\n",
       "      <td>0.0</td>\n",
       "      <td>0.0</td>\n",
       "      <td>0.0</td>\n",
       "      <td>...</td>\n",
       "      <td>0.0</td>\n",
       "      <td>0.0</td>\n",
       "      <td>0.0</td>\n",
       "      <td>0.0</td>\n",
       "      <td>0.0</td>\n",
       "      <td>0.0</td>\n",
       "      <td>0.0</td>\n",
       "      <td>0.0</td>\n",
       "      <td>0.0</td>\n",
       "      <td>0.0</td>\n",
       "    </tr>\n",
       "    <tr>\n",
       "      <th>1</th>\n",
       "      <td>0.0</td>\n",
       "      <td>0.0</td>\n",
       "      <td>0.0</td>\n",
       "      <td>0.0</td>\n",
       "      <td>0.0</td>\n",
       "      <td>0.0</td>\n",
       "      <td>0.0</td>\n",
       "      <td>0.0</td>\n",
       "      <td>0.0</td>\n",
       "      <td>0.0</td>\n",
       "      <td>...</td>\n",
       "      <td>0.0</td>\n",
       "      <td>0.0</td>\n",
       "      <td>0.0</td>\n",
       "      <td>0.0</td>\n",
       "      <td>0.0</td>\n",
       "      <td>0.0</td>\n",
       "      <td>0.0</td>\n",
       "      <td>0.0</td>\n",
       "      <td>0.0</td>\n",
       "      <td>0.0</td>\n",
       "    </tr>\n",
       "    <tr>\n",
       "      <th>2</th>\n",
       "      <td>0.0</td>\n",
       "      <td>0.0</td>\n",
       "      <td>0.0</td>\n",
       "      <td>0.0</td>\n",
       "      <td>0.0</td>\n",
       "      <td>0.0</td>\n",
       "      <td>0.0</td>\n",
       "      <td>0.0</td>\n",
       "      <td>0.0</td>\n",
       "      <td>0.0</td>\n",
       "      <td>...</td>\n",
       "      <td>0.0</td>\n",
       "      <td>0.0</td>\n",
       "      <td>0.0</td>\n",
       "      <td>0.0</td>\n",
       "      <td>0.0</td>\n",
       "      <td>0.0</td>\n",
       "      <td>0.0</td>\n",
       "      <td>0.0</td>\n",
       "      <td>0.0</td>\n",
       "      <td>0.0</td>\n",
       "    </tr>\n",
       "    <tr>\n",
       "      <th>3</th>\n",
       "      <td>0.0</td>\n",
       "      <td>0.0</td>\n",
       "      <td>0.0</td>\n",
       "      <td>0.0</td>\n",
       "      <td>0.0</td>\n",
       "      <td>0.0</td>\n",
       "      <td>0.0</td>\n",
       "      <td>0.0</td>\n",
       "      <td>0.0</td>\n",
       "      <td>0.0</td>\n",
       "      <td>...</td>\n",
       "      <td>0.0</td>\n",
       "      <td>0.0</td>\n",
       "      <td>0.0</td>\n",
       "      <td>0.0</td>\n",
       "      <td>0.0</td>\n",
       "      <td>0.0</td>\n",
       "      <td>0.0</td>\n",
       "      <td>0.0</td>\n",
       "      <td>0.0</td>\n",
       "      <td>0.0</td>\n",
       "    </tr>\n",
       "    <tr>\n",
       "      <th>4</th>\n",
       "      <td>0.0</td>\n",
       "      <td>0.0</td>\n",
       "      <td>0.0</td>\n",
       "      <td>0.0</td>\n",
       "      <td>0.0</td>\n",
       "      <td>0.0</td>\n",
       "      <td>0.0</td>\n",
       "      <td>0.0</td>\n",
       "      <td>0.0</td>\n",
       "      <td>0.0</td>\n",
       "      <td>...</td>\n",
       "      <td>0.0</td>\n",
       "      <td>0.0</td>\n",
       "      <td>0.0</td>\n",
       "      <td>0.0</td>\n",
       "      <td>0.0</td>\n",
       "      <td>0.0</td>\n",
       "      <td>0.0</td>\n",
       "      <td>0.0</td>\n",
       "      <td>0.0</td>\n",
       "      <td>0.0</td>\n",
       "    </tr>\n",
       "  </tbody>\n",
       "</table>\n",
       "<p>5 rows × 34641 columns</p>\n",
       "</div>"
      ],
      "text/plain": [
       "   00am  00ariana  00k  00pm  01am  01m  04th  05pm  0966kas  0bama  ...  \\\n",
       "0   0.0       0.0  0.0   0.0   0.0  0.0   0.0   0.0      0.0    0.0  ...   \n",
       "1   0.0       0.0  0.0   0.0   0.0  0.0   0.0   0.0      0.0    0.0  ...   \n",
       "2   0.0       0.0  0.0   0.0   0.0  0.0   0.0   0.0      0.0    0.0  ...   \n",
       "3   0.0       0.0  0.0   0.0   0.0  0.0   0.0   0.0      0.0    0.0  ...   \n",
       "4   0.0       0.0  0.0   0.0   0.0  0.0   0.0   0.0      0.0    0.0  ...   \n",
       "\n",
       "   zquadom  zquadwantszayntosmile  zsuzsannakun  zubin  zucco  zuhour  \\\n",
       "0      0.0                    0.0           0.0    0.0    0.0     0.0   \n",
       "1      0.0                    0.0           0.0    0.0    0.0     0.0   \n",
       "2      0.0                    0.0           0.0    0.0    0.0     0.0   \n",
       "3      0.0                    0.0           0.0    0.0    0.0     0.0   \n",
       "4      0.0                    0.0           0.0    0.0    0.0     0.0   \n",
       "\n",
       "   zulfiqar  zum  zumba  zwei  \n",
       "0       0.0  0.0    0.0   0.0  \n",
       "1       0.0  0.0    0.0   0.0  \n",
       "2       0.0  0.0    0.0   0.0  \n",
       "3       0.0  0.0    0.0   0.0  \n",
       "4       0.0  0.0    0.0   0.0  \n",
       "\n",
       "[5 rows x 34641 columns]"
      ]
     },
     "execution_count": 12,
     "metadata": {},
     "output_type": "execute_result"
    }
   ],
   "source": [
    "vector_df_eval = pd.DataFrame(vector_dataset_eval.todense(), columns=vectorizer_eval.get_feature_names())\n",
    "\n",
    "print(len(vectorizer_eval.get_feature_names()))\n",
    "vector_df_eval.head(5)"
   ]
  },
  {
   "cell_type": "code",
   "execution_count": 13,
   "metadata": {},
   "outputs": [],
   "source": [
    "X_eval = vector_df_eval.values  \n",
    "y_eval = data_eval['tag'].values"
   ]
  },
  {
   "cell_type": "code",
   "execution_count": 14,
   "metadata": {},
   "outputs": [
    {
     "name": "stdout",
     "output_type": "stream",
     "text": [
      "4914\n",
      "4914\n"
     ]
    }
   ],
   "source": [
    "print(len(X_eval))\n",
    "print(len(y_eval))"
   ]
  },
  {
   "cell_type": "code",
   "execution_count": 15,
   "metadata": {},
   "outputs": [
    {
     "name": "stderr",
     "output_type": "stream",
     "text": [
      "[Parallel(n_jobs=8)]: Using backend ThreadingBackend with 8 concurrent workers.\n",
      "[Parallel(n_jobs=8)]: Done  16 tasks      | elapsed:    0.1s\n",
      "[Parallel(n_jobs=8)]: Done  50 out of  50 | elapsed:    0.2s finished\n"
     ]
    }
   ],
   "source": [
    "y_pred = clf.predict(X_eval)  "
   ]
  },
  {
   "cell_type": "code",
   "execution_count": 16,
   "metadata": {},
   "outputs": [],
   "source": [
    "# output eval dats with predicted tags\n",
    "\n",
    "y_pred_eval_tag = y_pred.tolist()\n",
    "data_eval_result = data_eval\n",
    "data_eval_result['pred_tag'] = y_pred_eval_tag\n",
    "data_eval_result.to_csv(r\"eval_tag_result.csv\", sep=',', encoding='utf-8')"
   ]
  },
  {
   "cell_type": "code",
   "execution_count": 17,
   "metadata": {},
   "outputs": [
    {
     "name": "stdout",
     "output_type": "stream",
     "text": [
      "Accuracy : 0.6302\n",
      "\n",
      "Avg F1_score : 0.6177\n",
      "\n",
      "F1_scores\n",
      "negative : 0.4712\n",
      "neutral  : 0.6922\n",
      "positive : 0.5996\n"
     ]
    }
   ],
   "source": [
    "from sklearn.metrics import classification_report, confusion_matrix, accuracy_score,f1_score\n",
    "\n",
    "print(\"Accuracy : {:.4f}\\n\".format(accuracy_score(y_eval, y_pred)))\n",
    "print(\"Avg F1_score : {:.4f}\\n\".format(f1_score(y_eval, y_pred,\n",
    "                                                average='weighted')))\n",
    "\n",
    "f1_scores = f1_score(y_eval, y_pred, average=None)\n",
    "print(\"F1_scores\")\n",
    "for c, f1 in zip([\"negative\",\"neutral\",\"positive\"], f1_scores):\n",
    "    print(\"{:8} : {:.4f}\".format(c, f1))"
   ]
  },
  {
   "cell_type": "code",
   "execution_count": 18,
   "metadata": {},
   "outputs": [
    {
     "name": "stdout",
     "output_type": "stream",
     "text": [
      "Empty DataFrame\n",
      "Columns: [text, tag, pred_tag]\n",
      "Index: []\n",
      "Empty DataFrame\n",
      "Columns: [text, tag, pred_tag]\n",
      "Index: []\n"
     ]
    }
   ],
   "source": [
    "# predict the un-tagged testing data\n",
    "df_test = pd.read_csv(\"test_combine.csv\" , encoding=\"utf8\" ,error_bad_lines=False)\n",
    "data_test = pd.DataFrame(df_eval, columns=['text', 'tag'])\n",
    "\n",
    "nan_rows = data_eval[data_test['text'].isnull()]\n",
    "print(nan_rows)\n",
    "nan_rows = data_eval[data_test['tag'].isnull()]\n",
    "print(nan_rows)"
   ]
  },
  {
   "cell_type": "code",
   "execution_count": 19,
   "metadata": {},
   "outputs": [
    {
     "name": "stdout",
     "output_type": "stream",
     "text": [
      "                                                text  tag\n",
      "0  today tomorrow night work done midnight shame ...    0\n",
      "1  time passing discussion christians always high...    0\n",
      "2               wishhhhh going jason aldean tomorrow    1\n",
      "3  kenklippenstein obviously right putin pen afd ...    0\n",
      "4  thankful bitchy antics pointing animals shop s...    1\n",
      "CPU times: user 218 ms, sys: 1.99 ms, total: 220 ms\n",
      "Wall time: 219 ms\n"
     ]
    }
   ],
   "source": [
    "%%time\n",
    "data_test.text = data_test.text.apply(lambda x: preprocess(x))\n",
    "print(data_test.head(5))"
   ]
  },
  {
   "cell_type": "code",
   "execution_count": 20,
   "metadata": {},
   "outputs": [],
   "source": [
    "corpus_test = data_test['text']\n",
    "vectorizer_test = TfidfVectorizer(vocabulary= train_feature)\n",
    "vector_dataset_test = vectorizer_test.fit_transform(corpus_test)"
   ]
  },
  {
   "cell_type": "code",
   "execution_count": 21,
   "metadata": {},
   "outputs": [
    {
     "name": "stdout",
     "output_type": "stream",
     "text": [
      "34641\n"
     ]
    },
    {
     "data": {
      "text/html": [
       "<div>\n",
       "<style scoped>\n",
       "    .dataframe tbody tr th:only-of-type {\n",
       "        vertical-align: middle;\n",
       "    }\n",
       "\n",
       "    .dataframe tbody tr th {\n",
       "        vertical-align: top;\n",
       "    }\n",
       "\n",
       "    .dataframe thead th {\n",
       "        text-align: right;\n",
       "    }\n",
       "</style>\n",
       "<table border=\"1\" class=\"dataframe\">\n",
       "  <thead>\n",
       "    <tr style=\"text-align: right;\">\n",
       "      <th></th>\n",
       "      <th>00am</th>\n",
       "      <th>00ariana</th>\n",
       "      <th>00k</th>\n",
       "      <th>00pm</th>\n",
       "      <th>01am</th>\n",
       "      <th>01m</th>\n",
       "      <th>04th</th>\n",
       "      <th>05pm</th>\n",
       "      <th>0966kas</th>\n",
       "      <th>0bama</th>\n",
       "      <th>...</th>\n",
       "      <th>zquadom</th>\n",
       "      <th>zquadwantszayntosmile</th>\n",
       "      <th>zsuzsannakun</th>\n",
       "      <th>zubin</th>\n",
       "      <th>zucco</th>\n",
       "      <th>zuhour</th>\n",
       "      <th>zulfiqar</th>\n",
       "      <th>zum</th>\n",
       "      <th>zumba</th>\n",
       "      <th>zwei</th>\n",
       "    </tr>\n",
       "  </thead>\n",
       "  <tbody>\n",
       "    <tr>\n",
       "      <th>0</th>\n",
       "      <td>0.0</td>\n",
       "      <td>0.0</td>\n",
       "      <td>0.0</td>\n",
       "      <td>0.0</td>\n",
       "      <td>0.0</td>\n",
       "      <td>0.0</td>\n",
       "      <td>0.0</td>\n",
       "      <td>0.0</td>\n",
       "      <td>0.0</td>\n",
       "      <td>0.0</td>\n",
       "      <td>...</td>\n",
       "      <td>0.0</td>\n",
       "      <td>0.0</td>\n",
       "      <td>0.0</td>\n",
       "      <td>0.0</td>\n",
       "      <td>0.0</td>\n",
       "      <td>0.0</td>\n",
       "      <td>0.0</td>\n",
       "      <td>0.0</td>\n",
       "      <td>0.0</td>\n",
       "      <td>0.0</td>\n",
       "    </tr>\n",
       "    <tr>\n",
       "      <th>1</th>\n",
       "      <td>0.0</td>\n",
       "      <td>0.0</td>\n",
       "      <td>0.0</td>\n",
       "      <td>0.0</td>\n",
       "      <td>0.0</td>\n",
       "      <td>0.0</td>\n",
       "      <td>0.0</td>\n",
       "      <td>0.0</td>\n",
       "      <td>0.0</td>\n",
       "      <td>0.0</td>\n",
       "      <td>...</td>\n",
       "      <td>0.0</td>\n",
       "      <td>0.0</td>\n",
       "      <td>0.0</td>\n",
       "      <td>0.0</td>\n",
       "      <td>0.0</td>\n",
       "      <td>0.0</td>\n",
       "      <td>0.0</td>\n",
       "      <td>0.0</td>\n",
       "      <td>0.0</td>\n",
       "      <td>0.0</td>\n",
       "    </tr>\n",
       "    <tr>\n",
       "      <th>2</th>\n",
       "      <td>0.0</td>\n",
       "      <td>0.0</td>\n",
       "      <td>0.0</td>\n",
       "      <td>0.0</td>\n",
       "      <td>0.0</td>\n",
       "      <td>0.0</td>\n",
       "      <td>0.0</td>\n",
       "      <td>0.0</td>\n",
       "      <td>0.0</td>\n",
       "      <td>0.0</td>\n",
       "      <td>...</td>\n",
       "      <td>0.0</td>\n",
       "      <td>0.0</td>\n",
       "      <td>0.0</td>\n",
       "      <td>0.0</td>\n",
       "      <td>0.0</td>\n",
       "      <td>0.0</td>\n",
       "      <td>0.0</td>\n",
       "      <td>0.0</td>\n",
       "      <td>0.0</td>\n",
       "      <td>0.0</td>\n",
       "    </tr>\n",
       "    <tr>\n",
       "      <th>3</th>\n",
       "      <td>0.0</td>\n",
       "      <td>0.0</td>\n",
       "      <td>0.0</td>\n",
       "      <td>0.0</td>\n",
       "      <td>0.0</td>\n",
       "      <td>0.0</td>\n",
       "      <td>0.0</td>\n",
       "      <td>0.0</td>\n",
       "      <td>0.0</td>\n",
       "      <td>0.0</td>\n",
       "      <td>...</td>\n",
       "      <td>0.0</td>\n",
       "      <td>0.0</td>\n",
       "      <td>0.0</td>\n",
       "      <td>0.0</td>\n",
       "      <td>0.0</td>\n",
       "      <td>0.0</td>\n",
       "      <td>0.0</td>\n",
       "      <td>0.0</td>\n",
       "      <td>0.0</td>\n",
       "      <td>0.0</td>\n",
       "    </tr>\n",
       "    <tr>\n",
       "      <th>4</th>\n",
       "      <td>0.0</td>\n",
       "      <td>0.0</td>\n",
       "      <td>0.0</td>\n",
       "      <td>0.0</td>\n",
       "      <td>0.0</td>\n",
       "      <td>0.0</td>\n",
       "      <td>0.0</td>\n",
       "      <td>0.0</td>\n",
       "      <td>0.0</td>\n",
       "      <td>0.0</td>\n",
       "      <td>...</td>\n",
       "      <td>0.0</td>\n",
       "      <td>0.0</td>\n",
       "      <td>0.0</td>\n",
       "      <td>0.0</td>\n",
       "      <td>0.0</td>\n",
       "      <td>0.0</td>\n",
       "      <td>0.0</td>\n",
       "      <td>0.0</td>\n",
       "      <td>0.0</td>\n",
       "      <td>0.0</td>\n",
       "    </tr>\n",
       "  </tbody>\n",
       "</table>\n",
       "<p>5 rows × 34641 columns</p>\n",
       "</div>"
      ],
      "text/plain": [
       "   00am  00ariana  00k  00pm  01am  01m  04th  05pm  0966kas  0bama  ...  \\\n",
       "0   0.0       0.0  0.0   0.0   0.0  0.0   0.0   0.0      0.0    0.0  ...   \n",
       "1   0.0       0.0  0.0   0.0   0.0  0.0   0.0   0.0      0.0    0.0  ...   \n",
       "2   0.0       0.0  0.0   0.0   0.0  0.0   0.0   0.0      0.0    0.0  ...   \n",
       "3   0.0       0.0  0.0   0.0   0.0  0.0   0.0   0.0      0.0    0.0  ...   \n",
       "4   0.0       0.0  0.0   0.0   0.0  0.0   0.0   0.0      0.0    0.0  ...   \n",
       "\n",
       "   zquadom  zquadwantszayntosmile  zsuzsannakun  zubin  zucco  zuhour  \\\n",
       "0      0.0                    0.0           0.0    0.0    0.0     0.0   \n",
       "1      0.0                    0.0           0.0    0.0    0.0     0.0   \n",
       "2      0.0                    0.0           0.0    0.0    0.0     0.0   \n",
       "3      0.0                    0.0           0.0    0.0    0.0     0.0   \n",
       "4      0.0                    0.0           0.0    0.0    0.0     0.0   \n",
       "\n",
       "   zulfiqar  zum  zumba  zwei  \n",
       "0       0.0  0.0    0.0   0.0  \n",
       "1       0.0  0.0    0.0   0.0  \n",
       "2       0.0  0.0    0.0   0.0  \n",
       "3       0.0  0.0    0.0   0.0  \n",
       "4       0.0  0.0    0.0   0.0  \n",
       "\n",
       "[5 rows x 34641 columns]"
      ]
     },
     "execution_count": 21,
     "metadata": {},
     "output_type": "execute_result"
    }
   ],
   "source": [
    "vector_df_test = pd.DataFrame(vector_dataset_test.todense(), columns=vectorizer_eval.get_feature_names())\n",
    "\n",
    "print(len(vectorizer_test.get_feature_names()))\n",
    "vector_df_test.head(5)"
   ]
  },
  {
   "cell_type": "code",
   "execution_count": 22,
   "metadata": {},
   "outputs": [],
   "source": [
    "X_test = vector_df_test.values"
   ]
  },
  {
   "cell_type": "code",
   "execution_count": 23,
   "metadata": {},
   "outputs": [
    {
     "name": "stderr",
     "output_type": "stream",
     "text": [
      "[Parallel(n_jobs=8)]: Using backend ThreadingBackend with 8 concurrent workers.\n",
      "[Parallel(n_jobs=8)]: Done  16 tasks      | elapsed:    0.1s\n",
      "[Parallel(n_jobs=8)]: Done  50 out of  50 | elapsed:    0.2s finished\n"
     ]
    }
   ],
   "source": [
    "y_pred_test = clf.predict(X_test)  "
   ]
  },
  {
   "cell_type": "code",
   "execution_count": 24,
   "metadata": {},
   "outputs": [
    {
     "data": {
      "text/html": [
       "<div>\n",
       "<style scoped>\n",
       "    .dataframe tbody tr th:only-of-type {\n",
       "        vertical-align: middle;\n",
       "    }\n",
       "\n",
       "    .dataframe tbody tr th {\n",
       "        vertical-align: top;\n",
       "    }\n",
       "\n",
       "    .dataframe thead th {\n",
       "        text-align: right;\n",
       "    }\n",
       "</style>\n",
       "<table border=\"1\" class=\"dataframe\">\n",
       "  <thead>\n",
       "    <tr style=\"text-align: right;\">\n",
       "      <th></th>\n",
       "      <th>text</th>\n",
       "      <th>tag</th>\n",
       "    </tr>\n",
       "  </thead>\n",
       "  <tbody>\n",
       "    <tr>\n",
       "      <th>0</th>\n",
       "      <td>today tomorrow night work done midnight shame ...</td>\n",
       "      <td>0</td>\n",
       "    </tr>\n",
       "    <tr>\n",
       "      <th>1</th>\n",
       "      <td>time passing discussion christians always high...</td>\n",
       "      <td>0</td>\n",
       "    </tr>\n",
       "    <tr>\n",
       "      <th>2</th>\n",
       "      <td>wishhhhh going jason aldean tomorrow</td>\n",
       "      <td>1</td>\n",
       "    </tr>\n",
       "    <tr>\n",
       "      <th>3</th>\n",
       "      <td>kenklippenstein obviously right putin pen afd ...</td>\n",
       "      <td>0</td>\n",
       "    </tr>\n",
       "    <tr>\n",
       "      <th>4</th>\n",
       "      <td>thankful bitchy antics pointing animals shop s...</td>\n",
       "      <td>1</td>\n",
       "    </tr>\n",
       "  </tbody>\n",
       "</table>\n",
       "</div>"
      ],
      "text/plain": [
       "                                                text  tag\n",
       "0  today tomorrow night work done midnight shame ...    0\n",
       "1  time passing discussion christians always high...    0\n",
       "2               wishhhhh going jason aldean tomorrow    1\n",
       "3  kenklippenstein obviously right putin pen afd ...    0\n",
       "4  thankful bitchy antics pointing animals shop s...    1"
      ]
     },
     "execution_count": 24,
     "metadata": {},
     "output_type": "execute_result"
    }
   ],
   "source": [
    "data_test.head()"
   ]
  },
  {
   "cell_type": "code",
   "execution_count": 25,
   "metadata": {},
   "outputs": [
    {
     "data": {
      "text/plain": [
       "Index(['text', 'tag'], dtype='object')"
      ]
     },
     "execution_count": 25,
     "metadata": {},
     "output_type": "execute_result"
    }
   ],
   "source": [
    "data_test.columns"
   ]
  },
  {
   "cell_type": "code",
   "execution_count": 26,
   "metadata": {},
   "outputs": [],
   "source": [
    "#output test data with predicted result\n",
    "\n",
    "# added by klaas\n",
    "data_test = pd.DataFrame(df_eval, columns=['id', 'text', 'tag'])\n",
    "\n",
    "data_test_id_list = data_test['id'].tolist()\n",
    "data_test_text_list = data_test['text'].tolist()\n",
    "y_pred_test_tag = y_pred_test.tolist()\n",
    "\n",
    "with open('test_tag_result1.csv', 'w', newline='' , encoding=\"utf-8\") as csvfile:\n",
    "    tweet_writer = csv.writer(csvfile, delimiter=',',\n",
    "                            quotechar=',', quoting=csv.QUOTE_MINIMAL)\n",
    "    for i in range(0, len(data_test_id_list)):\n",
    "        output_list = []\n",
    "        output_list.append(data_test_id_list[i])\n",
    "        output_list.append(data_test_text_list[i])\n",
    "        if y_pred_test_tag[i] == 1:\n",
    "            output_list.append(\"positive\")\n",
    "        elif y_pred_test_tag[i] == 0:\n",
    "            output_list.append(\"neutral\")\n",
    "        elif y_pred_test_tag[i] == -1:\n",
    "            output_list.append(\"negative\")  \n",
    "        tweet_writer.writerow(output_list)"
   ]
  },
  {
   "cell_type": "markdown",
   "metadata": {},
   "source": [
    "# Using combined training & eval to get more attributes"
   ]
  },
  {
   "cell_type": "code",
   "execution_count": 27,
   "metadata": {},
   "outputs": [
    {
     "name": "stdout",
     "output_type": "stream",
     "text": [
      "Empty DataFrame\n",
      "Columns: [text, tag]\n",
      "Index: []\n",
      "Empty DataFrame\n",
      "Columns: [text, tag]\n",
      "Index: []\n"
     ]
    }
   ],
   "source": [
    "# show the format of dataset\n",
    "df_train = pd.read_csv(\"all_combine.csv\" , encoding=\"utf8\" ,error_bad_lines=False)\n",
    "data_train = pd.DataFrame(df_train, columns=['text', 'tag'])\n",
    "# print(len(data))\n",
    "\n",
    "nan_rows = data_train[data_train['text'].isnull()]\n",
    "print(nan_rows)\n",
    "nan_rows = data_train[data_train['tag'].isnull()]\n",
    "print(nan_rows)"
   ]
  },
  {
   "cell_type": "code",
   "execution_count": 28,
   "metadata": {},
   "outputs": [
    {
     "data": {
      "text/html": [
       "<div>\n",
       "<style scoped>\n",
       "    .dataframe tbody tr th:only-of-type {\n",
       "        vertical-align: middle;\n",
       "    }\n",
       "\n",
       "    .dataframe tbody tr th {\n",
       "        vertical-align: top;\n",
       "    }\n",
       "\n",
       "    .dataframe thead th {\n",
       "        text-align: right;\n",
       "    }\n",
       "</style>\n",
       "<table border=\"1\" class=\"dataframe\">\n",
       "  <thead>\n",
       "    <tr style=\"text-align: right;\">\n",
       "      <th></th>\n",
       "      <th>text</th>\n",
       "      <th>tag</th>\n",
       "    </tr>\n",
       "  </thead>\n",
       "  <tbody>\n",
       "    <tr>\n",
       "      <th>27835</th>\n",
       "      <td>hrtablaze beginning dictatorship gun control e...</td>\n",
       "      <td>-1</td>\n",
       "    </tr>\n",
       "    <tr>\n",
       "      <th>27836</th>\n",
       "      <td>son idc anymore going shawn tomorrow</td>\n",
       "      <td>0</td>\n",
       "    </tr>\n",
       "    <tr>\n",
       "      <th>27837</th>\n",
       "      <td>remember clinton foundation</td>\n",
       "      <td>0</td>\n",
       "    </tr>\n",
       "    <tr>\n",
       "      <th>27838</th>\n",
       "      <td>press worried murray dominated 3rd round djoke...</td>\n",
       "      <td>0</td>\n",
       "    </tr>\n",
       "    <tr>\n",
       "      <th>27839</th>\n",
       "      <td>rinashah using moto 2nd gen month absolute del...</td>\n",
       "      <td>1</td>\n",
       "    </tr>\n",
       "  </tbody>\n",
       "</table>\n",
       "</div>"
      ],
      "text/plain": [
       "                                                    text  tag\n",
       "27835  hrtablaze beginning dictatorship gun control e...   -1\n",
       "27836               son idc anymore going shawn tomorrow    0\n",
       "27837                        remember clinton foundation    0\n",
       "27838  press worried murray dominated 3rd round djoke...    0\n",
       "27839  rinashah using moto 2nd gen month absolute del...    1"
      ]
     },
     "execution_count": 28,
     "metadata": {},
     "output_type": "execute_result"
    }
   ],
   "source": [
    "data_train.text = data_train.text.apply(lambda x: preprocess(x))\n",
    "data_train.head(5)\n",
    "data_train.tail(5)"
   ]
  },
  {
   "cell_type": "code",
   "execution_count": 29,
   "metadata": {},
   "outputs": [],
   "source": [
    "corpus = data_train['text']\n",
    "vectorizer_train = TfidfVectorizer()\n",
    "vector_dataset_train = vectorizer_train.fit_transform(corpus)"
   ]
  },
  {
   "cell_type": "code",
   "execution_count": 30,
   "metadata": {},
   "outputs": [
    {
     "name": "stdout",
     "output_type": "stream",
     "text": [
      "39056\n"
     ]
    }
   ],
   "source": [
    "vector_df_train = pd.DataFrame(vector_dataset_train.todense(), columns=vectorizer_train.get_feature_names())\n",
    "\n",
    "print(len(vectorizer_train.get_feature_names()))"
   ]
  },
  {
   "cell_type": "code",
   "execution_count": 31,
   "metadata": {},
   "outputs": [],
   "source": [
    "X = vector_df_train.values  \n",
    "y = data_train['tag'].values  "
   ]
  },
  {
   "cell_type": "code",
   "execution_count": 32,
   "metadata": {},
   "outputs": [],
   "source": [
    "from sklearn.model_selection import train_test_split\n",
    "\n",
    "X_train, X_test, y_train, y_test = train_test_split(X, y, test_size=0.3, random_state=7)  "
   ]
  },
  {
   "cell_type": "code",
   "execution_count": 33,
   "metadata": {},
   "outputs": [
    {
     "name": "stderr",
     "output_type": "stream",
     "text": [
      "[Parallel(n_jobs=-1)]: Using backend ThreadingBackend with 8 concurrent workers.\n"
     ]
    },
    {
     "name": "stdout",
     "output_type": "stream",
     "text": [
      "building tree 1 of 50building tree 2 of 50\n",
      "\n",
      "building tree 3 of 50\n",
      "building tree 4 of 50building tree 5 of 50\n",
      "\n",
      "building tree 6 of 50building tree 7 of 50\n",
      "\n",
      "building tree 8 of 50\n",
      "building tree 9 of 50\n",
      "building tree 10 of 50\n",
      "building tree 11 of 50\n",
      "building tree 12 of 50\n",
      "building tree 13 of 50\n",
      "building tree 14 of 50\n",
      "building tree 15 of 50\n",
      "building tree 16 of 50\n",
      "building tree 17 of 50\n",
      "building tree 18 of 50\n",
      "building tree 19 of 50\n",
      "building tree 20 of 50\n",
      "building tree 21 of 50\n",
      "building tree 22 of 50\n",
      "building tree 23 of 50\n"
     ]
    },
    {
     "name": "stderr",
     "output_type": "stream",
     "text": [
      "[Parallel(n_jobs=-1)]: Done  16 tasks      | elapsed:  1.1min\n"
     ]
    },
    {
     "name": "stdout",
     "output_type": "stream",
     "text": [
      "building tree 24 of 50\n",
      "building tree 25 of 50\n",
      "building tree 26 of 50\n",
      "building tree 27 of 50\n",
      "building tree 28 of 50\n",
      "building tree 29 of 50\n",
      "building tree 30 of 50\n",
      "building tree 31 of 50\n",
      "building tree 32 of 50\n",
      "building tree 33 of 50\n",
      "building tree 34 of 50\n",
      "building tree 35 of 50\n",
      "building tree 36 of 50\n",
      "building tree 37 of 50\n",
      "building tree 38 of 50\n",
      "building tree 39 of 50\n",
      "building tree 40 of 50\n",
      "building tree 41 of 50\n",
      "building tree 42 of 50\n",
      "building tree 43 of 50\n",
      "building tree 44 of 50\n",
      "building tree 45 of 50\n",
      "building tree 46 of 50\n",
      "building tree 47 of 50\n",
      "building tree 48 of 50\n",
      "building tree 49 of 50\n",
      "building tree 50 of 50\n"
     ]
    },
    {
     "name": "stderr",
     "output_type": "stream",
     "text": [
      "[Parallel(n_jobs=-1)]: Done  50 out of  50 | elapsed:  3.3min finished\n"
     ]
    },
    {
     "data": {
      "text/plain": [
       "RandomForestClassifier(bootstrap=True, class_weight='balanced',\n",
       "            criterion='gini', max_depth=None, max_features='auto',\n",
       "            max_leaf_nodes=None, min_impurity_decrease=0.0,\n",
       "            min_impurity_split=None, min_samples_leaf=1,\n",
       "            min_samples_split=2, min_weight_fraction_leaf=0.0,\n",
       "            n_estimators=50, n_jobs=-1, oob_score=False, random_state=7,\n",
       "            verbose=3, warm_start=False)"
      ]
     },
     "execution_count": 33,
     "metadata": {},
     "output_type": "execute_result"
    }
   ],
   "source": [
    "clf = RandomForestClassifier(n_estimators=50, class_weight='balanced',\n",
    "                            random_state=7, verbose=3, n_jobs=-1)\n",
    "clf.fit(X_train, y_train)"
   ]
  },
  {
   "cell_type": "code",
   "execution_count": 34,
   "metadata": {},
   "outputs": [
    {
     "name": "stderr",
     "output_type": "stream",
     "text": [
      "[Parallel(n_jobs=8)]: Using backend ThreadingBackend with 8 concurrent workers.\n",
      "[Parallel(n_jobs=8)]: Done  16 tasks      | elapsed:    0.2s\n",
      "[Parallel(n_jobs=8)]: Done  50 out of  50 | elapsed:    0.5s finished\n"
     ]
    }
   ],
   "source": [
    "y_pred = clf.predict(X_test)"
   ]
  },
  {
   "cell_type": "code",
   "execution_count": 38,
   "metadata": {},
   "outputs": [
    {
     "name": "stdout",
     "output_type": "stream",
     "text": [
      "Accuracy : 0.6249\n",
      "\n",
      "Avg F1_score : 0.6131\n",
      "\n",
      "F1_scores\n",
      "negative : 0.4703\n",
      "neutral  : 0.6911\n",
      "positive : 0.5841\n"
     ]
    }
   ],
   "source": [
    "print(\"Accuracy : {:.4f}\\n\".format(accuracy_score(y_test, y_pred)))\n",
    "\n",
    "print(\"Avg F1_score : {:.4f}\\n\".format(f1_score(y_test, y_pred,\n",
    "                                               average='weighted')))\n",
    "\n",
    "f1_scores = f1_score(y_test, y_pred, average=None)\n",
    "print(\"F1_scores\")\n",
    "for c, f1 in zip([\"negative\",\"neutral\",\"positive\"], f1_scores):\n",
    "    print(\"{:8} : {:.4f}\".format(c, f1))"
   ]
  },
  {
   "cell_type": "code",
   "execution_count": 39,
   "metadata": {},
   "outputs": [
    {
     "name": "stderr",
     "output_type": "stream",
     "text": [
      "[Parallel(n_jobs=8)]: Using backend ThreadingBackend with 8 concurrent workers.\n",
      "[Parallel(n_jobs=8)]: Done  16 tasks      | elapsed:    0.2s\n",
      "[Parallel(n_jobs=8)]: Done  50 out of  50 | elapsed:    0.5s finished\n"
     ]
    }
   ],
   "source": [
    "y_pred_test = clf.predict(X_test) "
   ]
  },
  {
   "cell_type": "code",
   "execution_count": 40,
   "metadata": {},
   "outputs": [],
   "source": [
    "#output test data with predicted result\n",
    "data_test_id_list = data_test['id'].tolist()\n",
    "data_test_text_list = data_test['text'].tolist()\n",
    "y_pred_test_tag = y_pred_test.tolist()\n",
    "\n",
    "with open('test_tag_result2.csv', 'w', newline='' , encoding=\"utf-8\") as csvfile:\n",
    "    tweet_writer = csv.writer(csvfile, delimiter=',',\n",
    "                            quotechar=',', quoting=csv.QUOTE_MINIMAL)\n",
    "    for i in range(0, len(data_test_id_list)):\n",
    "        output_list = []\n",
    "        output_list.append(data_test_id_list[i])\n",
    "        output_list.append(data_test_text_list[i])\n",
    "        if y_pred_test_tag[i] == 1:\n",
    "            output_list.append(\"positive\")\n",
    "        elif y_pred_test_tag[i] == 0:\n",
    "            output_list.append(\"neutral\")\n",
    "        elif y_pred_test_tag[i] == -1:\n",
    "            output_list.append(\"negative\")  \n",
    "        tweet_writer.writerow(output_list)\n"
   ]
  },
  {
   "cell_type": "code",
   "execution_count": null,
   "metadata": {},
   "outputs": [],
   "source": []
  }
 ],
 "metadata": {
  "kernelspec": {
   "display_name": "Python 3",
   "language": "python",
   "name": "python3"
  },
  "language_info": {
   "codemirror_mode": {
    "name": "ipython",
    "version": 3
   },
   "file_extension": ".py",
   "mimetype": "text/x-python",
   "name": "python",
   "nbconvert_exporter": "python",
   "pygments_lexer": "ipython3",
   "version": "3.7.2"
  }
 },
 "nbformat": 4,
 "nbformat_minor": 2
}
